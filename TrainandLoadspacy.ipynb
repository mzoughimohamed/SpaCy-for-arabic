{
  "cells": [
    {
      "cell_type": "code",
      "execution_count": null,
      "metadata": {
        "colab": {
          "base_uri": "https://localhost:8080/"
        },
        "id": "sweMiiGUyBZE",
        "outputId": "a8df6156-d0a5-4ac9-98b4-78d79e45b18d"
      },
      "outputs": [
        {
          "output_type": "stream",
          "name": "stdout",
          "text": [
            "Requirement already satisfied: spacy in /usr/local/lib/python3.7/dist-packages (3.3.0)\n",
            "Requirement already satisfied: pydantic!=1.8,!=1.8.1,<1.9.0,>=1.7.4 in /usr/local/lib/python3.7/dist-packages (from spacy) (1.8.2)\n",
            "Requirement already satisfied: jinja2 in /usr/local/lib/python3.7/dist-packages (from spacy) (2.11.3)\n",
            "Requirement already satisfied: requests<3.0.0,>=2.13.0 in /usr/local/lib/python3.7/dist-packages (from spacy) (2.23.0)\n",
            "Requirement already satisfied: spacy-legacy<3.1.0,>=3.0.9 in /usr/local/lib/python3.7/dist-packages (from spacy) (3.0.9)\n",
            "Requirement already satisfied: tqdm<5.0.0,>=4.38.0 in /usr/local/lib/python3.7/dist-packages (from spacy) (4.64.0)\n",
            "Requirement already satisfied: typing-extensions<4.0.0.0,>=3.7.4 in /usr/local/lib/python3.7/dist-packages (from spacy) (3.10.0.2)\n",
            "Requirement already satisfied: wasabi<1.1.0,>=0.9.1 in /usr/local/lib/python3.7/dist-packages (from spacy) (0.9.1)\n",
            "Requirement already satisfied: thinc<8.1.0,>=8.0.14 in /usr/local/lib/python3.7/dist-packages (from spacy) (8.0.15)\n",
            "Requirement already satisfied: packaging>=20.0 in /usr/local/lib/python3.7/dist-packages (from spacy) (21.3)\n",
            "Requirement already satisfied: setuptools in /usr/local/lib/python3.7/dist-packages (from spacy) (57.4.0)\n",
            "Requirement already satisfied: preshed<3.1.0,>=3.0.2 in /usr/local/lib/python3.7/dist-packages (from spacy) (3.0.6)\n",
            "Requirement already satisfied: srsly<3.0.0,>=2.4.3 in /usr/local/lib/python3.7/dist-packages (from spacy) (2.4.3)\n",
            "Requirement already satisfied: langcodes<4.0.0,>=3.2.0 in /usr/local/lib/python3.7/dist-packages (from spacy) (3.3.0)\n",
            "Requirement already satisfied: numpy>=1.15.0 in /usr/local/lib/python3.7/dist-packages (from spacy) (1.21.6)\n",
            "Requirement already satisfied: catalogue<2.1.0,>=2.0.6 in /usr/local/lib/python3.7/dist-packages (from spacy) (2.0.7)\n",
            "Requirement already satisfied: murmurhash<1.1.0,>=0.28.0 in /usr/local/lib/python3.7/dist-packages (from spacy) (1.0.7)\n",
            "Requirement already satisfied: cymem<2.1.0,>=2.0.2 in /usr/local/lib/python3.7/dist-packages (from spacy) (2.0.6)\n",
            "Requirement already satisfied: spacy-loggers<2.0.0,>=1.0.0 in /usr/local/lib/python3.7/dist-packages (from spacy) (1.0.2)\n",
            "Requirement already satisfied: pathy>=0.3.5 in /usr/local/lib/python3.7/dist-packages (from spacy) (0.6.1)\n",
            "Requirement already satisfied: blis<0.8.0,>=0.4.0 in /usr/local/lib/python3.7/dist-packages (from spacy) (0.4.1)\n",
            "Requirement already satisfied: typer<0.5.0,>=0.3.0 in /usr/local/lib/python3.7/dist-packages (from spacy) (0.4.1)\n",
            "Requirement already satisfied: zipp>=0.5 in /usr/local/lib/python3.7/dist-packages (from catalogue<2.1.0,>=2.0.6->spacy) (3.8.0)\n",
            "Requirement already satisfied: pyparsing!=3.0.5,>=2.0.2 in /usr/local/lib/python3.7/dist-packages (from packaging>=20.0->spacy) (3.0.9)\n",
            "Requirement already satisfied: smart-open<6.0.0,>=5.0.0 in /usr/local/lib/python3.7/dist-packages (from pathy>=0.3.5->spacy) (5.2.1)\n",
            "Requirement already satisfied: urllib3!=1.25.0,!=1.25.1,<1.26,>=1.21.1 in /usr/local/lib/python3.7/dist-packages (from requests<3.0.0,>=2.13.0->spacy) (1.24.3)\n",
            "Requirement already satisfied: certifi>=2017.4.17 in /usr/local/lib/python3.7/dist-packages (from requests<3.0.0,>=2.13.0->spacy) (2021.10.8)\n",
            "Requirement already satisfied: idna<3,>=2.5 in /usr/local/lib/python3.7/dist-packages (from requests<3.0.0,>=2.13.0->spacy) (2.10)\n",
            "Requirement already satisfied: chardet<4,>=3.0.2 in /usr/local/lib/python3.7/dist-packages (from requests<3.0.0,>=2.13.0->spacy) (3.0.4)\n",
            "Requirement already satisfied: click<9.0.0,>=7.1.1 in /usr/local/lib/python3.7/dist-packages (from typer<0.5.0,>=0.3.0->spacy) (7.1.2)\n",
            "Requirement already satisfied: MarkupSafe>=0.23 in /usr/local/lib/python3.7/dist-packages (from jinja2->spacy) (2.0.1)\n"
          ]
        }
      ],
      "source": [
        "pip install -U spacy"
      ],
      "id": "sweMiiGUyBZE"
    },
    {
      "cell_type": "code",
      "execution_count": null,
      "metadata": {
        "colab": {
          "base_uri": "https://localhost:8080/"
        },
        "id": "S3q4S_5f7pSX",
        "outputId": "4ccd0b10-a1c3-48e8-ef4f-550de1a6a623"
      },
      "outputs": [
        {
          "output_type": "stream",
          "name": "stdout",
          "text": [
            "Collecting xx-sent-ud-sm==3.3.0\n",
            "  Downloading https://github.com/explosion/spacy-models/releases/download/xx_sent_ud_sm-3.3.0/xx_sent_ud_sm-3.3.0-py3-none-any.whl (4.3 MB)\n",
            "\u001b[K     |████████████████████████████████| 4.3 MB 5.1 MB/s \n",
            "\u001b[?25hRequirement already satisfied: spacy<3.4.0,>=3.3.0.dev0 in /usr/local/lib/python3.7/dist-packages (from xx-sent-ud-sm==3.3.0) (3.3.0)\n",
            "Requirement already satisfied: numpy>=1.15.0 in /usr/local/lib/python3.7/dist-packages (from spacy<3.4.0,>=3.3.0.dev0->xx-sent-ud-sm==3.3.0) (1.21.6)\n",
            "Requirement already satisfied: jinja2 in /usr/local/lib/python3.7/dist-packages (from spacy<3.4.0,>=3.3.0.dev0->xx-sent-ud-sm==3.3.0) (2.11.3)\n",
            "Requirement already satisfied: preshed<3.1.0,>=3.0.2 in /usr/local/lib/python3.7/dist-packages (from spacy<3.4.0,>=3.3.0.dev0->xx-sent-ud-sm==3.3.0) (3.0.6)\n",
            "Requirement already satisfied: packaging>=20.0 in /usr/local/lib/python3.7/dist-packages (from spacy<3.4.0,>=3.3.0.dev0->xx-sent-ud-sm==3.3.0) (21.3)\n",
            "Requirement already satisfied: tqdm<5.0.0,>=4.38.0 in /usr/local/lib/python3.7/dist-packages (from spacy<3.4.0,>=3.3.0.dev0->xx-sent-ud-sm==3.3.0) (4.64.0)\n",
            "Requirement already satisfied: srsly<3.0.0,>=2.4.3 in /usr/local/lib/python3.7/dist-packages (from spacy<3.4.0,>=3.3.0.dev0->xx-sent-ud-sm==3.3.0) (2.4.3)\n",
            "Requirement already satisfied: typing-extensions<4.0.0.0,>=3.7.4 in /usr/local/lib/python3.7/dist-packages (from spacy<3.4.0,>=3.3.0.dev0->xx-sent-ud-sm==3.3.0) (3.10.0.2)\n",
            "Requirement already satisfied: pathy>=0.3.5 in /usr/local/lib/python3.7/dist-packages (from spacy<3.4.0,>=3.3.0.dev0->xx-sent-ud-sm==3.3.0) (0.6.1)\n",
            "Requirement already satisfied: cymem<2.1.0,>=2.0.2 in /usr/local/lib/python3.7/dist-packages (from spacy<3.4.0,>=3.3.0.dev0->xx-sent-ud-sm==3.3.0) (2.0.6)\n",
            "Requirement already satisfied: spacy-loggers<2.0.0,>=1.0.0 in /usr/local/lib/python3.7/dist-packages (from spacy<3.4.0,>=3.3.0.dev0->xx-sent-ud-sm==3.3.0) (1.0.2)\n",
            "Requirement already satisfied: wasabi<1.1.0,>=0.9.1 in /usr/local/lib/python3.7/dist-packages (from spacy<3.4.0,>=3.3.0.dev0->xx-sent-ud-sm==3.3.0) (0.9.1)\n",
            "Requirement already satisfied: requests<3.0.0,>=2.13.0 in /usr/local/lib/python3.7/dist-packages (from spacy<3.4.0,>=3.3.0.dev0->xx-sent-ud-sm==3.3.0) (2.23.0)\n",
            "Requirement already satisfied: murmurhash<1.1.0,>=0.28.0 in /usr/local/lib/python3.7/dist-packages (from spacy<3.4.0,>=3.3.0.dev0->xx-sent-ud-sm==3.3.0) (1.0.7)\n",
            "Requirement already satisfied: langcodes<4.0.0,>=3.2.0 in /usr/local/lib/python3.7/dist-packages (from spacy<3.4.0,>=3.3.0.dev0->xx-sent-ud-sm==3.3.0) (3.3.0)\n",
            "Requirement already satisfied: typer<0.5.0,>=0.3.0 in /usr/local/lib/python3.7/dist-packages (from spacy<3.4.0,>=3.3.0.dev0->xx-sent-ud-sm==3.3.0) (0.4.1)\n",
            "Requirement already satisfied: catalogue<2.1.0,>=2.0.6 in /usr/local/lib/python3.7/dist-packages (from spacy<3.4.0,>=3.3.0.dev0->xx-sent-ud-sm==3.3.0) (2.0.7)\n",
            "Requirement already satisfied: spacy-legacy<3.1.0,>=3.0.9 in /usr/local/lib/python3.7/dist-packages (from spacy<3.4.0,>=3.3.0.dev0->xx-sent-ud-sm==3.3.0) (3.0.9)\n",
            "Requirement already satisfied: thinc<8.1.0,>=8.0.14 in /usr/local/lib/python3.7/dist-packages (from spacy<3.4.0,>=3.3.0.dev0->xx-sent-ud-sm==3.3.0) (8.0.15)\n",
            "Requirement already satisfied: pydantic!=1.8,!=1.8.1,<1.9.0,>=1.7.4 in /usr/local/lib/python3.7/dist-packages (from spacy<3.4.0,>=3.3.0.dev0->xx-sent-ud-sm==3.3.0) (1.8.2)\n",
            "Requirement already satisfied: setuptools in /usr/local/lib/python3.7/dist-packages (from spacy<3.4.0,>=3.3.0.dev0->xx-sent-ud-sm==3.3.0) (57.4.0)\n",
            "Requirement already satisfied: blis<0.8.0,>=0.4.0 in /usr/local/lib/python3.7/dist-packages (from spacy<3.4.0,>=3.3.0.dev0->xx-sent-ud-sm==3.3.0) (0.4.1)\n",
            "Requirement already satisfied: zipp>=0.5 in /usr/local/lib/python3.7/dist-packages (from catalogue<2.1.0,>=2.0.6->spacy<3.4.0,>=3.3.0.dev0->xx-sent-ud-sm==3.3.0) (3.8.0)\n",
            "Requirement already satisfied: pyparsing!=3.0.5,>=2.0.2 in /usr/local/lib/python3.7/dist-packages (from packaging>=20.0->spacy<3.4.0,>=3.3.0.dev0->xx-sent-ud-sm==3.3.0) (3.0.9)\n",
            "Requirement already satisfied: smart-open<6.0.0,>=5.0.0 in /usr/local/lib/python3.7/dist-packages (from pathy>=0.3.5->spacy<3.4.0,>=3.3.0.dev0->xx-sent-ud-sm==3.3.0) (5.2.1)\n",
            "Requirement already satisfied: idna<3,>=2.5 in /usr/local/lib/python3.7/dist-packages (from requests<3.0.0,>=2.13.0->spacy<3.4.0,>=3.3.0.dev0->xx-sent-ud-sm==3.3.0) (2.10)\n",
            "Requirement already satisfied: chardet<4,>=3.0.2 in /usr/local/lib/python3.7/dist-packages (from requests<3.0.0,>=2.13.0->spacy<3.4.0,>=3.3.0.dev0->xx-sent-ud-sm==3.3.0) (3.0.4)\n",
            "Requirement already satisfied: certifi>=2017.4.17 in /usr/local/lib/python3.7/dist-packages (from requests<3.0.0,>=2.13.0->spacy<3.4.0,>=3.3.0.dev0->xx-sent-ud-sm==3.3.0) (2021.10.8)\n",
            "Requirement already satisfied: urllib3!=1.25.0,!=1.25.1,<1.26,>=1.21.1 in /usr/local/lib/python3.7/dist-packages (from requests<3.0.0,>=2.13.0->spacy<3.4.0,>=3.3.0.dev0->xx-sent-ud-sm==3.3.0) (1.24.3)\n",
            "Requirement already satisfied: click<9.0.0,>=7.1.1 in /usr/local/lib/python3.7/dist-packages (from typer<0.5.0,>=0.3.0->spacy<3.4.0,>=3.3.0.dev0->xx-sent-ud-sm==3.3.0) (7.1.2)\n",
            "Requirement already satisfied: MarkupSafe>=0.23 in /usr/local/lib/python3.7/dist-packages (from jinja2->spacy<3.4.0,>=3.3.0.dev0->xx-sent-ud-sm==3.3.0) (2.0.1)\n",
            "\u001b[38;5;2m✔ Download and installation successful\u001b[0m\n",
            "You can now load the package via spacy.load('xx_sent_ud_sm')\n"
          ]
        }
      ],
      "source": [
        "!python -m spacy download xx_sent_ud_sm"
      ],
      "id": "S3q4S_5f7pSX"
    },
    {
      "cell_type": "markdown",
      "metadata": {
        "id": "68796c9d-7cca-455e-9c62-b9fd769ca542"
      },
      "source": [
        "# Importation & inititalizing"
      ],
      "id": "68796c9d-7cca-455e-9c62-b9fd769ca542"
    },
    {
      "cell_type": "code",
      "execution_count": null,
      "metadata": {
        "id": "8d92e5f2-379d-40d6-acd0-477ca53d3c36"
      },
      "outputs": [],
      "source": [
        "import spacy \n",
        "from spacy.tokens import DocBin\n",
        "from tqdm import tqdm\n",
        "import json\n",
        "import re"
      ],
      "id": "8d92e5f2-379d-40d6-acd0-477ca53d3c36"
    },
    {
      "cell_type": "markdown",
      "metadata": {
        "id": "a629a20b-4b1c-4e5f-84d8-cc1d7d52aa76"
      },
      "source": [
        "# Reading Dataset & Presenting over view"
      ],
      "id": "a629a20b-4b1c-4e5f-84d8-cc1d7d52aa76"
    },
    {
      "cell_type": "code",
      "execution_count": null,
      "metadata": {
        "colab": {
          "base_uri": "https://localhost:8080/"
        },
        "id": "ee41f287-f587-436c-908b-5def2fe127cb",
        "outputId": "e206da4a-dcaf-4284-8dc4-8c7beeab1fe1"
      },
      "outputs": [
        {
          "output_type": "stream",
          "name": "stdout",
          "text": [
            "Number of pragraphs :6081\n"
          ]
        }
      ],
      "source": [
        "with open(\"Dataset.json\")as f :\n",
        "    dic= json.load(f)\n",
        "Classes=dic[\"classes\"]\n",
        "Annotations=dic[\"annotations\"]\n",
        "Diclass={item:0 for item in Classes}\n",
        "print(f\"Number of pragraphs :{len(dic['annotations'])}\")\n",
        "for item in Annotations:\n",
        "    for subitem in item[1][\"entities\"]:\n",
        "        Diclass[subitem[2]]+=1"
      ],
      "id": "ee41f287-f587-436c-908b-5def2fe127cb"
    },
    {
      "cell_type": "code",
      "execution_count": null,
      "metadata": {
        "colab": {
          "base_uri": "https://localhost:8080/"
        },
        "id": "TugKwFcdVVxM",
        "outputId": "61853631-3c51-4a42-851a-8ce9d4d9d6be"
      },
      "outputs": [
        {
          "output_type": "execute_result",
          "data": {
            "text/plain": [
              "{'CULTURE ET ART': 4775,\n",
              " 'DIVERTISSEMENT': 380,\n",
              " 'ECONOMIE': 4644,\n",
              " 'EDUCATION': 4303,\n",
              " 'GASTRONOMIE': 111,\n",
              " 'MODE': 28,\n",
              " 'MÉDIAS': 4621,\n",
              " 'POLITIQUE': 4656,\n",
              " 'RELIGION': 185,\n",
              " 'SANTÉ': 4579,\n",
              " 'SECURITÉ ET DEFENSE': 4410,\n",
              " 'SPORT': 4663,\n",
              " 'TECHNOLOGIE': 4508}"
            ]
          },
          "metadata": {},
          "execution_count": 37
        }
      ],
      "source": [
        "Diclass"
      ],
      "id": "TugKwFcdVVxM"
    },
    {
      "cell_type": "code",
      "execution_count": null,
      "metadata": {
        "id": "Uq4kci6gr_RJ"
      },
      "outputs": [],
      "source": [
        "def process(text):\n",
        "    text = re.sub('[^\\w]+|_',' ', text, flags=re.U)\n",
        "    text=re.sub(r'[a-zA-Z?]','',text)\n",
        "    text=re.sub(f'\\n','',text)\n",
        "    text=re.sub(f'\\t','',text)\n",
        "    text=re.sub('\\'','',text)\n",
        "    text=re.sub('\\\"','',text)\n",
        "    text =re.sub(\" +\",\" \",text)\n",
        "    return text\n",
        "def preprocess(text):\n",
        "    text = re.sub(\"[إأٱآا]\", \"ا\", text)\n",
        "    text = re.sub(\"ى\", \"ي\", text)\n",
        "    text = re.sub(\"ؤ\", \"ء\", text)\n",
        "    text = re.sub(\"ئ\", \"ء\", text)\n",
        "    text = re.sub(\"ة\", \"ه\", text)\n",
        "    return text"
      ],
      "id": "Uq4kci6gr_RJ"
    },
    {
      "cell_type": "markdown",
      "metadata": {
        "id": "0e2fcbe7-7cf4-4420-9140-652228525b5c"
      },
      "source": [
        "# Creating Spacy Binary for training"
      ],
      "id": "0e2fcbe7-7cf4-4420-9140-652228525b5c"
    },
    {
      "cell_type": "code",
      "execution_count": null,
      "metadata": {
        "colab": {
          "base_uri": "https://localhost:8080/"
        },
        "id": "172ae3b0-3db5-49dc-9a58-e1d6139c1e34",
        "outputId": "a957fe48-74b9-4527-de88-54a4fa784357"
      },
      "outputs": [
        {
          "output_type": "stream",
          "name": "stderr",
          "text": [
            "100%|██████████| 6081/6081 [00:07<00:00, 809.67it/s]"
          ]
        },
        {
          "output_type": "stream",
          "name": "stdout",
          "text": [
            "Wrote to Disk Succesfully\n"
          ]
        },
        {
          "output_type": "stream",
          "name": "stderr",
          "text": [
            "\n"
          ]
        }
      ],
      "source": [
        "nlp=spacy.blank(\"ar\")\n",
        "db=DocBin()\n",
        "for text, annot in tqdm(Annotations): # data in previous format\n",
        "    text=preprocess(text)\n",
        "    doc = nlp.make_doc(text) # create doc object from text\n",
        "    ents = []\n",
        "    for start, end, label in annot[\"entities\"]: # add character indexes\n",
        "        span = doc.char_span(start, end, label=label, alignment_mode=\"contract\")\n",
        "        if span is None:\n",
        "            print(\"Skipping entity\")\n",
        "        else:\n",
        "            if not(label in [\"RELIGION\",\"GASTRONOMIE\",\"MODE\",\"DIVERTISSEMENT\"]):\n",
        "              ents.append(span)\n",
        "    doc.ents = ents # label the text with the ents\n",
        "    db.add(doc)\n",
        "\n",
        "#db.to_disk(input(\"OUTPUT NAME (Without Extension):\")+\".spacy\")\n",
        "print(\"Wrote to Disk Succesfully\")"
      ],
      "id": "172ae3b0-3db5-49dc-9a58-e1d6139c1e34"
    },
    {
      "cell_type": "markdown",
      "metadata": {
        "id": "cd2cc2e0-1945-4268-b37f-76165a9e0e23"
      },
      "source": [
        "# Loading The Spacy Binary "
      ],
      "id": "cd2cc2e0-1945-4268-b37f-76165a9e0e23"
    },
    {
      "cell_type": "code",
      "execution_count": null,
      "metadata": {
        "id": "bb81ef6c-2726-4b0a-8f2d-9fbce47716e7"
      },
      "outputs": [],
      "source": [
        "docs=[]\n",
        "docs = list(db.get_docs(nlp.vocab))"
      ],
      "id": "bb81ef6c-2726-4b0a-8f2d-9fbce47716e7"
    },
    {
      "cell_type": "code",
      "execution_count": null,
      "metadata": {
        "colab": {
          "base_uri": "https://localhost:8080/"
        },
        "id": "tnlGs0HRwB4X",
        "outputId": "a3a88910-abc7-4ee4-e4cd-e6c4e05a4bfa"
      },
      "outputs": [
        {
          "output_type": "execute_result",
          "data": {
            "text/plain": [
              "6081"
            ]
          },
          "metadata": {},
          "execution_count": 41
        }
      ],
      "source": [
        "len(docs)"
      ],
      "id": "tnlGs0HRwB4X"
    },
    {
      "cell_type": "markdown",
      "metadata": {
        "id": "34d02cd1-1cb8-4997-9cf0-b3dfde78eb2c"
      },
      "source": [
        "# Creating Training & Test Data"
      ],
      "id": "34d02cd1-1cb8-4997-9cf0-b3dfde78eb2c"
    },
    {
      "cell_type": "code",
      "execution_count": null,
      "metadata": {
        "id": "1b032710-39a8-4afe-a427-3bc0dda09e27"
      },
      "outputs": [],
      "source": [
        "import random\n",
        "random.shuffle(docs)\n",
        "val=int(0.8*len(docs))\n",
        "random.shuffle(docs)\n",
        "train_docs = docs[:val]\n",
        "dev_docs = docs[val:]\n",
        "# Create and save a collection of training docs\n",
        "train_docbin = DocBin(docs=train_docs)\n",
        "train_docbin.to_disk(\"train.spacy\")\n",
        "# Create and save a collection of evaluation docs\n",
        "dev_docbin = DocBin(docs=dev_docs)\n",
        "dev_docbin.to_disk(\"dev.spacy\")"
      ],
      "id": "1b032710-39a8-4afe-a427-3bc0dda09e27"
    },
    {
      "cell_type": "markdown",
      "metadata": {
        "id": "5e02abfc-14ee-48d8-a013-9224fca4a048"
      },
      "source": [
        "# Training process"
      ],
      "id": "5e02abfc-14ee-48d8-a013-9224fca4a048"
    },
    {
      "cell_type": "markdown",
      "metadata": {
        "id": "f5eff99a-9052-4110-bd2a-d6fd6b8719cb"
      },
      "source": [
        "## Creating the source of the truth (config.cfg)"
      ],
      "id": "f5eff99a-9052-4110-bd2a-d6fd6b8719cb"
    },
    {
      "cell_type": "code",
      "execution_count": null,
      "metadata": {
        "colab": {
          "base_uri": "https://localhost:8080/"
        },
        "id": "d4db4fe2-da82-4498-b213-d7251b0d5e0b",
        "outputId": "65022caf-4cd9-4a02-f78a-2da0c8064f24"
      },
      "outputs": [
        {
          "output_type": "stream",
          "name": "stdout",
          "text": [
            "\u001b[38;5;2m✔ Auto-filled config with all values\u001b[0m\n",
            "\u001b[38;5;2m✔ Saved config\u001b[0m\n",
            "config.cfg\n",
            "You can now add your data and train your pipeline:\n",
            "python -m spacy train config.cfg --paths.train ./train.spacy --paths.dev ./dev.spacy\n"
          ]
        }
      ],
      "source": [
        "!python -m spacy init fill-config base_config.cfg config.cfg"
      ],
      "id": "d4db4fe2-da82-4498-b213-d7251b0d5e0b"
    },
    {
      "cell_type": "markdown",
      "metadata": {
        "id": "192feca6-9571-4c75-a8fc-8a74929747d7"
      },
      "source": [
        "## Starting The training"
      ],
      "id": "192feca6-9571-4c75-a8fc-8a74929747d7"
    },
    {
      "cell_type": "code",
      "execution_count": null,
      "metadata": {
        "colab": {
          "base_uri": "https://localhost:8080/"
        },
        "id": "b7ba17fb-3700-4c5b-9690-8dbb44d6c7c5",
        "outputId": "c185653e-37d1-4e22-e1e4-62704c2b95fb"
      },
      "outputs": [
        {
          "output_type": "stream",
          "name": "stdout",
          "text": [
            "\u001b[38;5;4mℹ Saving to output directory: output1\u001b[0m\n",
            "\u001b[38;5;4mℹ Using CPU\u001b[0m\n",
            "\u001b[1m\n",
            "=========================== Initializing pipeline ===========================\u001b[0m\n",
            "[2022-05-19 07:42:16,081] [INFO] Set up nlp object from config\n",
            "[2022-05-19 07:42:16,093] [INFO] Pipeline: ['tok2vec', 'ner']\n",
            "[2022-05-19 07:42:16,097] [INFO] Created vocabulary\n",
            "[2022-05-19 07:42:16,099] [INFO] Finished initializing nlp object\n",
            "[2022-05-19 07:42:23,381] [INFO] Initialized pipeline components: ['tok2vec', 'ner']\n",
            "\u001b[38;5;2m✔ Initialized pipeline\u001b[0m\n",
            "\u001b[1m\n",
            "============================= Training pipeline =============================\u001b[0m\n",
            "\u001b[38;5;4mℹ Pipeline: ['tok2vec', 'ner']\u001b[0m\n",
            "\u001b[38;5;4mℹ Initial learn rate: 0.001\u001b[0m\n",
            "E    #       LOSS TOK2VEC  LOSS NER  ENTS_F  ENTS_P  ENTS_R  SCORE \n",
            "---  ------  ------------  --------  ------  ------  ------  ------\n",
            "  0       0          0.00     48.76    0.05    0.69    0.03    0.00\n",
            "  0     200         73.38   5169.93    5.96   36.19    3.25    0.06\n",
            "  0     400        332.02   5688.66    6.21   48.00    3.32    0.06\n",
            "  0     600       1527.10   6745.38   10.70   42.24    6.13    0.11\n",
            "  0     800        317.84   7902.34   21.61   54.14   13.50    0.22\n",
            "  0    1000        280.15   8495.42   29.57   62.18   19.40    0.30\n",
            "  0    1200        558.37   9805.03   36.67   59.88   26.42    0.37\n",
            "  1    1400        446.89  10047.59   42.82   63.47   32.31    0.43\n",
            "  1    1600        625.41  11141.98   48.41   60.79   40.22    0.48\n",
            "  1    1800        750.31  13491.91   49.15   57.44   42.95    0.49\n",
            "  2    2000        839.69  14482.93   51.64   59.29   45.73    0.52\n",
            "  2    2200       1142.48  16324.12   53.21   65.56   44.78    0.53\n",
            "  3    2400       1416.01  18164.69   53.82   61.50   47.85    0.54\n",
            "  4    2600       1578.07  17941.90   54.16   61.92   48.13    0.54\n",
            "  4    2800       1768.89  16789.26   54.82   63.41   48.28    0.55\n",
            "  5    3000       1665.38  13809.51   54.29   57.54   51.40    0.54\n",
            "  6    3200       1761.60  13669.53   55.40   62.71   49.62    0.55\n",
            "  7    3400       1805.62  12747.72   54.55   57.34   52.01    0.55\n",
            "  7    3600       1897.78  12115.39   55.35   60.18   51.25    0.55\n",
            "  8    3800       1748.89  10479.23   54.84   60.01   50.49    0.55\n",
            "  9    4000       1890.67  10328.40   54.85   59.71   50.73    0.55\n",
            " 10    4200       1887.86  10281.80   53.72   57.69   50.25    0.54\n",
            " 10    4400       1905.18   9630.05   55.78   59.66   52.37    0.56\n",
            " 11    4600       1762.48   8506.93   55.16   59.51   51.41    0.55\n",
            " 12    4800       1912.52   8992.88   55.16   61.46   50.03    0.55\n",
            " 13    5000       1783.09   8246.99   55.23   60.35   50.91    0.55\n",
            " 13    5200       1783.15   7777.30   54.67   61.53   49.18    0.55\n",
            " 14    5400       1819.12   7928.08   54.34   59.52   49.99    0.54\n",
            " 15    5600       1972.39   7891.96   54.65   58.06   51.61    0.55\n",
            " 16    5800       1755.71   6876.28   55.05   59.73   51.06    0.55\n",
            " 16    6000       1870.43   6997.45   54.88   59.64   50.83    0.55\n",
            "\u001b[38;5;2m✔ Saved pipeline to output directory\u001b[0m\n",
            "output1/model-last\n"
          ]
        }
      ],
      "source": [
        "!python -m spacy train config.cfg --output ./output1 --paths.train ./train.spacy --paths.dev ./dev.spacy "
      ],
      "id": "b7ba17fb-3700-4c5b-9690-8dbb44d6c7c5"
    },
    {
      "cell_type": "code",
      "execution_count": null,
      "metadata": {
        "colab": {
          "base_uri": "https://localhost:8080/"
        },
        "id": "Gvq_3-H3xt4c",
        "outputId": "a38dc700-6b4e-4f19-8f26-602dd6aced53"
      },
      "outputs": [
        {
          "output_type": "stream",
          "name": "stdout",
          "text": [
            "updating: output1/ (stored 0%)\n",
            "updating: output1/model-last/ (stored 0%)\n",
            "updating: output1/model-last/tokenizer (deflated 81%)\n",
            "updating: output1/model-last/config.cfg (deflated 61%)\n",
            "updating: output1/model-last/ner/ (stored 0%)\n",
            "updating: output1/model-last/ner/moves (deflated 73%)\n",
            "updating: output1/model-last/ner/cfg (deflated 33%)\n",
            "updating: output1/model-last/ner/model (deflated 7%)\n",
            "updating: output1/model-last/tok2vec/ (stored 0%)\n",
            "updating: output1/model-last/tok2vec/cfg (stored 0%)\n",
            "updating: output1/model-last/tok2vec/model (deflated 7%)\n",
            "updating: output1/model-last/meta.json (deflated 63%)\n",
            "updating: output1/model-last/vocab/ (stored 0%)\n",
            "updating: output1/model-last/vocab/vectors (deflated 45%)\n",
            "updating: output1/model-last/vocab/strings.json (deflated 90%)\n",
            "updating: output1/model-last/vocab/lookups.bin (stored 0%)\n",
            "updating: output1/model-last/vocab/vectors.cfg (stored 0%)\n",
            "updating: output1/model-last/vocab/key2row (stored 0%)\n",
            "updating: output1/model-best/ (stored 0%)\n",
            "updating: output1/model-best/tokenizer (deflated 81%)\n",
            "updating: output1/model-best/config.cfg (deflated 61%)\n",
            "updating: output1/model-best/ner/ (stored 0%)\n",
            "updating: output1/model-best/ner/moves (deflated 73%)\n",
            "updating: output1/model-best/ner/cfg (deflated 33%)\n",
            "updating: output1/model-best/ner/model (deflated 7%)\n",
            "updating: output1/model-best/tok2vec/ (stored 0%)\n",
            "updating: output1/model-best/tok2vec/cfg (stored 0%)\n",
            "updating: output1/model-best/tok2vec/model (deflated 7%)\n",
            "updating: output1/model-best/meta.json (deflated 63%)\n",
            "updating: output1/model-best/vocab/ (stored 0%)\n",
            "updating: output1/model-best/vocab/vectors (deflated 45%)\n",
            "updating: output1/model-best/vocab/strings.json (deflated 90%)\n",
            "updating: output1/model-best/vocab/lookups.bin (stored 0%)\n",
            "updating: output1/model-best/vocab/vectors.cfg (stored 0%)\n",
            "updating: output1/model-best/vocab/key2row (stored 0%)\n"
          ]
        }
      ],
      "source": [
        "from google.colab import files\n",
        "!zip -r output.zip output1"
      ],
      "id": "Gvq_3-H3xt4c"
    },
    {
      "cell_type": "markdown",
      "metadata": {
        "id": "08c6b0a2-2e9b-480e-ad73-06813a549a14"
      },
      "source": [
        "# Examples "
      ],
      "id": "08c6b0a2-2e9b-480e-ad73-06813a549a14"
    },
    {
      "cell_type": "code",
      "execution_count": null,
      "metadata": {
        "id": "08dRW5i1zXkD"
      },
      "outputs": [],
      "source": [
        ""
      ],
      "id": "08dRW5i1zXkD"
    },
    {
      "cell_type": "code",
      "execution_count": null,
      "metadata": {
        "colab": {
          "base_uri": "https://localhost:8080/",
          "height": 262
        },
        "id": "db6897e4-681f-45be-9adb-f9529887169e",
        "outputId": "31608e57-e4cd-43bd-f143-76cd103180f0"
      },
      "outputs": [
        {
          "output_type": "display_data",
          "data": {
            "text/plain": [
              "<IPython.core.display.HTML object>"
            ],
            "text/html": [
              "<span class=\"tex2jax_ignore\"><div class=\"entities\" style=\"line-height: 2.5; direction: rtl\">يعلم \n",
              "<mark class=\"entity\" style=\"background: #ddd; padding: 0.45em 0.6em; margin: 0 0.25em; line-height: 1; border-radius: 0.35em;\">\n",
              "    الحزب الدستوري الحر\n",
              "    <span style=\"font-size: 0.8em; font-weight: bold; line-height: 1; border-radius: 0.35em; vertical-align: middle; margin-left: 0.5rem\">POLITIQUE</span>\n",
              "</mark>\n",
              " في \n",
              "<mark class=\"entity\" style=\"background: #ddd; padding: 0.45em 0.6em; margin: 0 0.25em; line-height: 1; border-radius: 0.35em;\">\n",
              "    بلاغ\n",
              "    <span style=\"font-size: 0.8em; font-weight: bold; line-height: 1; border-radius: 0.35em; vertical-align: middle; margin-left: 0.5rem\">MÉDIAS</span>\n",
              "</mark>\n",
              " تلقينا نسخه منه انه وجه محضر تنبيه بواسطه عدل تنفيذ \n",
              "<mark class=\"entity\" style=\"background: #ddd; padding: 0.45em 0.6em; margin: 0 0.25em; line-height: 1; border-radius: 0.35em;\">\n",
              "    للهيءه العليا المستقله للانتخابات\n",
              "    <span style=\"font-size: 0.8em; font-weight: bold; line-height: 1; border-radius: 0.35em; vertical-align: middle; margin-left: 0.5rem\">POLITIQUE</span>\n",
              "</mark>\n",
              " في شخص ممثلها القانوني تضمن مطالبتها بالقيام بدورها في ضمان علويه القانون والامتناع عن تنظيم اي \n",
              "<mark class=\"entity\" style=\"background: #ddd; padding: 0.45em 0.6em; margin: 0 0.25em; line-height: 1; border-radius: 0.35em;\">\n",
              "    استفتاء\n",
              "    <span style=\"font-size: 0.8em; font-weight: bold; line-height: 1; border-radius: 0.35em; vertical-align: middle; margin-left: 0.5rem\">POLITIQUE</span>\n",
              "</mark>\n",
              " او \n",
              "<mark class=\"entity\" style=\"background: #ddd; padding: 0.45em 0.6em; margin: 0 0.25em; line-height: 1; border-radius: 0.35em;\">\n",
              "    انتخابات\n",
              "    <span style=\"font-size: 0.8em; font-weight: bold; line-height: 1; border-radius: 0.35em; vertical-align: middle; margin-left: 0.5rem\">POLITIQUE</span>\n",
              "</mark>\n",
              " بناء علي نصوص غير صادره عن \n",
              "<mark class=\"entity\" style=\"background: #ddd; padding: 0.45em 0.6em; margin: 0 0.25em; line-height: 1; border-radius: 0.35em;\">\n",
              "    مءسسه تشريعيه منتخبه\n",
              "    <span style=\"font-size: 0.8em; font-weight: bold; line-height: 1; border-radius: 0.35em; vertical-align: middle; margin-left: 0.5rem\">POLITIQUE</span>\n",
              "</mark>\n",
              " كالامتناع عن طلب او \n",
              "<mark class=\"entity\" style=\"background: #ddd; padding: 0.45em 0.6em; margin: 0 0.25em; line-height: 1; border-radius: 0.35em;\">\n",
              "    صرف\n",
              "    <span style=\"font-size: 0.8em; font-weight: bold; line-height: 1; border-radius: 0.35em; vertical-align: middle; margin-left: 0.5rem\">ECONOMIE</span>\n",
              "</mark>\n",
              " اي \n",
              "<mark class=\"entity\" style=\"background: #ddd; padding: 0.45em 0.6em; margin: 0 0.25em; line-height: 1; border-radius: 0.35em;\">\n",
              "    مبالغ ماليه\n",
              "    <span style=\"font-size: 0.8em; font-weight: bold; line-height: 1; border-radius: 0.35em; vertical-align: middle; margin-left: 0.5rem\">ECONOMIE</span>\n",
              "</mark>\n",
              " من \n",
              "<mark class=\"entity\" style=\"background: #ddd; padding: 0.45em 0.6em; margin: 0 0.25em; line-height: 1; border-radius: 0.35em;\">\n",
              "    ميزانيه الدوله\n",
              "    <span style=\"font-size: 0.8em; font-weight: bold; line-height: 1; border-radius: 0.35em; vertical-align: middle; margin-left: 0.5rem\">ECONOMIE</span>\n",
              "</mark>\n",
              " لتنظيم \n",
              "<mark class=\"entity\" style=\"background: #ddd; padding: 0.45em 0.6em; margin: 0 0.25em; line-height: 1; border-radius: 0.35em;\">\n",
              "    محطات انتخابيه\n",
              "    <span style=\"font-size: 0.8em; font-weight: bold; line-height: 1; border-radius: 0.35em; vertical-align: middle; margin-left: 0.5rem\">POLITIQUE</span>\n",
              "</mark>\n",
              " غير شرعيه نص البلاغ اعتبارا لتسيير الدوله حاليا بموجب الفصل 80 الذي يسمح لمن فعله باتخاذ تدابير استثناءيه تزول بزوال اسبابها وتهدف لاستءناف السير العادي لدواليب الدوله في اقرب الاجال ولا يمكن الحاكم من سن قوانين داءمه تحدد مصير البلاد وتمس من المعايير الدوليه \n",
              "<mark class=\"entity\" style=\"background: #ddd; padding: 0.45em 0.6em; margin: 0 0.25em; line-height: 1; border-radius: 0.35em;\">\n",
              "    للمنظومه الانتخابيه\n",
              "    <span style=\"font-size: 0.8em; font-weight: bold; line-height: 1; border-radius: 0.35em; vertical-align: middle; margin-left: 0.5rem\">POLITIQUE</span>\n",
              "</mark>\n",
              " وبما ان \n",
              "<mark class=\"entity\" style=\"background: #ddd; padding: 0.45em 0.6em; margin: 0 0.25em; line-height: 1; border-radius: 0.35em;\">\n",
              "    القانون\n",
              "    <span style=\"font-size: 0.8em; font-weight: bold; line-height: 1; border-radius: 0.35em; vertical-align: middle; margin-left: 0.5rem\">POLITIQUE</span>\n",
              "</mark>\n",
              " عدد 16 لسنه 2014 \n",
              "<mark class=\"entity\" style=\"background: #ddd; padding: 0.45em 0.6em; margin: 0 0.25em; line-height: 1; border-radius: 0.35em;\">\n",
              "    المءرخ\n",
              "    <span style=\"font-size: 0.8em; font-weight: bold; line-height: 1; border-radius: 0.35em; vertical-align: middle; margin-left: 0.5rem\">POLITIQUE</span>\n",
              "</mark>\n",
              " في 26 ماي 2014 المنقح في 2019 \n",
              "<mark class=\"entity\" style=\"background: #ddd; padding: 0.45em 0.6em; margin: 0 0.25em; line-height: 1; border-radius: 0.35em;\">\n",
              "    المنظم للانتخابات\n",
              "    <span style=\"font-size: 0.8em; font-weight: bold; line-height: 1; border-radius: 0.35em; vertical-align: middle; margin-left: 0.5rem\">POLITIQUE</span>\n",
              "</mark>\n",
              " والاستفتاء ساري المفعول حاليا</div></span>"
            ]
          },
          "metadata": {}
        }
      ],
      "source": [
        "nlp=spacy.load(\"output1/model-best\")\n",
        "text=\"يعلم الحزب الدستوري الحر في بلاغ تلقينا نسخة منه أنه وجه محضر تنبيه بواسطة عدل تنفيذ للهيئة العليا المستقلة للإنتخابات في شخص ممثلها القانوني تضمن مطالبتها بالقيام بدورها في ضمان علوية القانون والامتناع عن تنظيم اي استفتاء أو انتخابات بناء على نصوص غير صادرة عن مؤسسة تشريعية منتخبة كالامتناع عن طلب أو صرف أي مبالغ مالية من ميزانية الدولة لتنظيم محطات انتخابية غير شرعية نص البلاغ اعتبارا لتسيير الدولة حاليا بموجب الفصل 80 الذي يسمح لمن فعله باتخاذ تدابير استثنائية تزول بزوال أسبابها وتهدف لاستئناف السير العادي لدواليب الدولة في أقرب الآجال ولا يمكن الحاكم من سن قوانين دائمة تحدد مصير البلاد وتمس من المعايير الدولية للمنظومة الانتخابية وبما أن القانون عدد 16 لسنة 2014 المؤرخ في 26 ماي 2014 المنقح في 2019 المنظم للانتخابات والاستفتاء ساري المفعول حاليا\"\n",
        "text = re.sub(\"[إأٱآا]\", \"ا\", text)\n",
        "text = re.sub(\"ى\", \"ي\", text)\n",
        "text = re.sub(\"ؤ\", \"ء\", text)\n",
        "text = re.sub(\"ئ\", \"ء\", text)\n",
        "text = re.sub(\"ة\", \"ه\", text)\n",
        "doc=nlp(text)\n",
        "from spacy import displacy\n",
        "displacy.render(doc,style=\"ent\",jupyter=True)"
      ],
      "id": "db6897e4-681f-45be-9adb-f9529887169e"
    },
    {
      "cell_type": "code",
      "execution_count": null,
      "metadata": {
        "colab": {
          "base_uri": "https://localhost:8080/",
          "height": 87
        },
        "id": "debf81a6-eed4-4981-9160-3c885513b4ae",
        "outputId": "84ad1431-7aa2-4eff-92b0-51e808590fab"
      },
      "outputs": [
        {
          "output_type": "display_data",
          "data": {
            "text/plain": [
              "<IPython.core.display.HTML object>"
            ],
            "text/html": [
              "<span class=\"tex2jax_ignore\"><div class=\"entities\" style=\"line-height: 2.5; direction: rtl\">حيث تم تحديد يوم السبت 19 مارس 2022  موعدا لاستءناف \n",
              "<mark class=\"entity\" style=\"background: #ddd; padding: 0.45em 0.6em; margin: 0 0.25em; line-height: 1; border-radius: 0.35em;\">\n",
              "    نشاط البطوله\n",
              "    <span style=\"font-size: 0.8em; font-weight: bold; line-height: 1; border-radius: 0.35em; vertical-align: middle; margin-left: 0.5rem\">SPORT</span>\n",
              "</mark>\n",
              " فيما سيكون يوم 17 مارس الحالي موعدا لغلق الميركاتو و في ما يلي \n",
              "<mark class=\"entity\" style=\"background: #ddd; padding: 0.45em 0.6em; margin: 0 0.25em; line-height: 1; border-radius: 0.35em;\">\n",
              "    بلاغ\n",
              "    <span style=\"font-size: 0.8em; font-weight: bold; line-height: 1; border-radius: 0.35em; vertical-align: middle; margin-left: 0.5rem\">MÉDIAS</span>\n",
              "</mark>\n",
              " الجامعه</div></span>"
            ]
          },
          "metadata": {}
        }
      ],
      "source": [
        "text=\"حيث تم تحديد يوم السبت 19 مارس 2022  موعدا لاستئناف نشاط البطولة فيما سيكون يوم 17 مارس الحالي موعدا لغلق الميركاتو و في ما يلي بلاغ الجامعة\"\n",
        "text = re.sub(\"[إأٱآا]\", \"ا\", text)\n",
        "text = re.sub(\"ى\", \"ي\", text)\n",
        "text = re.sub(\"ؤ\", \"ء\", text)\n",
        "text = re.sub(\"ئ\", \"ء\", text)\n",
        "text = re.sub(\"ة\", \"ه\", text)\n",
        "doc=nlp(text)\n",
        "from spacy import displacy\n",
        "displacy.render(doc,style=\"ent\",jupyter=True)"
      ],
      "id": "debf81a6-eed4-4981-9160-3c885513b4ae"
    },
    {
      "cell_type": "code",
      "execution_count": null,
      "metadata": {
        "colab": {
          "base_uri": "https://localhost:8080/",
          "height": 857
        },
        "id": "pLKoVaIntaIJ",
        "outputId": "1c9db303-8e99-4d5e-a0e9-01c72d0ae158"
      },
      "outputs": [
        {
          "output_type": "display_data",
          "data": {
            "text/plain": [
              "<IPython.core.display.HTML object>"
            ],
            "text/html": [
              "<span class=\"tex2jax_ignore\"><div class=\"entities\" style=\"line-height: 2.5; direction: rtl\">واوضح ان \n",
              "<mark class=\"entity\" style=\"background: #ddd; padding: 0.45em 0.6em; margin: 0 0.25em; line-height: 1; border-radius: 0.35em;\">\n",
              "    التطبيقه\n",
              "    <span style=\"font-size: 0.8em; font-weight: bold; line-height: 1; border-radius: 0.35em; vertical-align: middle; margin-left: 0.5rem\">TECHNOLOGIE</span>\n",
              "</mark>\n",
              " ستساهم في مزيد ربط الصله بمختلف الفاعلين \n",
              "<mark class=\"entity\" style=\"background: #ddd; padding: 0.45em 0.6em; margin: 0 0.25em; line-height: 1; border-radius: 0.35em;\">\n",
              "    الثقافيين\n",
              "    <span style=\"font-size: 0.8em; font-weight: bold; line-height: 1; border-radius: 0.35em; vertical-align: middle; margin-left: 0.5rem\">CULTURE ET ART</span>\n",
              "</mark>\n",
              " من جمعيات \n",
              "<mark class=\"entity\" style=\"background: #ddd; padding: 0.45em 0.6em; margin: 0 0.25em; line-height: 1; border-radius: 0.35em;\">\n",
              "    ومءسسات ثقافيه\n",
              "    <span style=\"font-size: 0.8em; font-weight: bold; line-height: 1; border-radius: 0.35em; vertical-align: middle; margin-left: 0.5rem\">CULTURE ET ART</span>\n",
              "</mark>\n",
              " \n",
              "<mark class=\"entity\" style=\"background: #ddd; padding: 0.45em 0.6em; margin: 0 0.25em; line-height: 1; border-radius: 0.35em;\">\n",
              "    وفنانين\n",
              "    <span style=\"font-size: 0.8em; font-weight: bold; line-height: 1; border-radius: 0.35em; vertical-align: middle; margin-left: 0.5rem\">CULTURE ET ART</span>\n",
              "</mark>\n",
              " ومتعهدي حفلات وستوفر لهم ارضيه \n",
              "<mark class=\"entity\" style=\"background: #ddd; padding: 0.45em 0.6em; margin: 0 0.25em; line-height: 1; border-radius: 0.35em;\">\n",
              "    افتراضيه\n",
              "    <span style=\"font-size: 0.8em; font-weight: bold; line-height: 1; border-radius: 0.35em; vertical-align: middle; margin-left: 0.5rem\">TECHNOLOGIE</span>\n",
              "</mark>\n",
              " للتفاعل الحيني بين الفاعلين والاداره بما يساهم في تطوير \n",
              "<mark class=\"entity\" style=\"background: #ddd; padding: 0.45em 0.6em; margin: 0 0.25em; line-height: 1; border-radius: 0.35em;\">\n",
              "    المشهد الثقافي\n",
              "    <span style=\"font-size: 0.8em; font-weight: bold; line-height: 1; border-radius: 0.35em; vertical-align: middle; margin-left: 0.5rem\">CULTURE ET ART</span>\n",
              "</mark>\n",
              " الجهوي فضلا عن فسح المجال لتوثيق مختلف \n",
              "<mark class=\"entity\" style=\"background: #ddd; padding: 0.45em 0.6em; margin: 0 0.25em; line-height: 1; border-radius: 0.35em;\">\n",
              "    الانشطه والتظاهرات\n",
              "    <span style=\"font-size: 0.8em; font-weight: bold; line-height: 1; border-radius: 0.35em; vertical-align: middle; margin-left: 0.5rem\">CULTURE ET ART</span>\n",
              "</mark>\n",
              " التي تنتظم بالجهه  ولاحظ في ذات السياق ان \n",
              "<mark class=\"entity\" style=\"background: #ddd; padding: 0.45em 0.6em; margin: 0 0.25em; line-height: 1; border-radius: 0.35em;\">\n",
              "    التطبيقه\n",
              "    <span style=\"font-size: 0.8em; font-weight: bold; line-height: 1; border-radius: 0.35em; vertical-align: middle; margin-left: 0.5rem\">TECHNOLOGIE</span>\n",
              "</mark>\n",
              " ستكون مفتوحه لكل المستعملين وستمكن \n",
              "<mark class=\"entity\" style=\"background: #ddd; padding: 0.45em 0.6em; margin: 0 0.25em; line-height: 1; border-radius: 0.35em;\">\n",
              "    المولعين بالثقافه\n",
              "    <span style=\"font-size: 0.8em; font-weight: bold; line-height: 1; border-radius: 0.35em; vertical-align: middle; margin-left: 0.5rem\">CULTURE ET ART</span>\n",
              "</mark>\n",
              " والفنون من \n",
              "<mark class=\"entity\" style=\"background: #ddd; padding: 0.45em 0.6em; margin: 0 0.25em; line-height: 1; border-radius: 0.35em;\">\n",
              "    اجندا ثقافيه\n",
              "    <span style=\"font-size: 0.8em; font-weight: bold; line-height: 1; border-radius: 0.35em; vertical-align: middle; margin-left: 0.5rem\">CULTURE ET ART</span>\n",
              "</mark>\n",
              " لمختلف \n",
              "<mark class=\"entity\" style=\"background: #ddd; padding: 0.45em 0.6em; margin: 0 0.25em; line-height: 1; border-radius: 0.35em;\">\n",
              "    التظاهرات الثقافيه\n",
              "    <span style=\"font-size: 0.8em; font-weight: bold; line-height: 1; border-radius: 0.35em; vertical-align: middle; margin-left: 0.5rem\">CULTURE ET ART</span>\n",
              "</mark>\n",
              " المبرمجه بالجهه</div></span>"
            ]
          },
          "metadata": {}
        },
        {
          "output_type": "display_data",
          "data": {
            "text/plain": [
              "<IPython.core.display.HTML object>"
            ],
            "text/html": [
              "<span class=\"tex2jax_ignore\"><div class=\"entities\" style=\"line-height: 2.5; direction: rtl\">عبر \n",
              "<mark class=\"entity\" style=\"background: #ddd; padding: 0.45em 0.6em; margin: 0 0.25em; line-height: 1; border-radius: 0.35em;\">\n",
              "    الامين العام\n",
              "    <span style=\"font-size: 0.8em; font-weight: bold; line-height: 1; border-radius: 0.35em; vertical-align: middle; margin-left: 0.5rem\">POLITIQUE</span>\n",
              "</mark>\n",
              " \n",
              "<mark class=\"entity\" style=\"background: #ddd; padding: 0.45em 0.6em; margin: 0 0.25em; line-height: 1; border-radius: 0.35em;\">\n",
              "    لحزب التيار الديمقراطي\n",
              "    <span style=\"font-size: 0.8em; font-weight: bold; line-height: 1; border-radius: 0.35em; vertical-align: middle; margin-left: 0.5rem\">POLITIQUE</span>\n",
              "</mark>\n",
              " غازي الشواشي اليوم الثلاثاء 01 مارس 2022  عن شفقته علي \n",
              "<mark class=\"entity\" style=\"background: #ddd; padding: 0.45em 0.6em; margin: 0 0.25em; line-height: 1; border-radius: 0.35em;\">\n",
              "    حكومه نجلاء بودن\n",
              "    <span style=\"font-size: 0.8em; font-weight: bold; line-height: 1; border-radius: 0.35em; vertical-align: middle; margin-left: 0.5rem\">POLITIQUE</span>\n",
              "</mark>\n",
              "     وفي حوار له في \n",
              "<mark class=\"entity\" style=\"background: #ddd; padding: 0.45em 0.6em; margin: 0 0.25em; line-height: 1; border-radius: 0.35em;\">\n",
              "    ماتينال اذاعه\n",
              "    <span style=\"font-size: 0.8em; font-weight: bold; line-height: 1; border-radius: 0.35em; vertical-align: middle; margin-left: 0.5rem\">MÉDIAS</span>\n",
              "</mark>\n",
              " شمس انتقد الشواشي \n",
              "<mark class=\"entity\" style=\"background: #ddd; padding: 0.45em 0.6em; margin: 0 0.25em; line-height: 1; border-radius: 0.35em;\">\n",
              "    تعاطي\n",
              "    <span style=\"font-size: 0.8em; font-weight: bold; line-height: 1; border-radius: 0.35em; vertical-align: middle; margin-left: 0.5rem\">SECURITÉ ET DEFENSE</span>\n",
              "</mark>\n",
              " واداء \n",
              "<mark class=\"entity\" style=\"background: #ddd; padding: 0.45em 0.6em; margin: 0 0.25em; line-height: 1; border-radius: 0.35em;\">\n",
              "    الحكومه\n",
              "    <span style=\"font-size: 0.8em; font-weight: bold; line-height: 1; border-radius: 0.35em; vertical-align: middle; margin-left: 0.5rem\">POLITIQUE</span>\n",
              "</mark>\n",
              "  وقال ان \n",
              "<mark class=\"entity\" style=\"background: #ddd; padding: 0.45em 0.6em; margin: 0 0.25em; line-height: 1; border-radius: 0.35em;\">\n",
              "    حكومه بودن\n",
              "    <span style=\"font-size: 0.8em; font-weight: bold; line-height: 1; border-radius: 0.35em; vertical-align: middle; margin-left: 0.5rem\">POLITIQUE</span>\n",
              "</mark>\n",
              " هي \n",
              "<mark class=\"entity\" style=\"background: #ddd; padding: 0.45em 0.6em; margin: 0 0.25em; line-height: 1; border-radius: 0.35em;\">\n",
              "    حكومه\n",
              "    <span style=\"font-size: 0.8em; font-weight: bold; line-height: 1; border-radius: 0.35em; vertical-align: middle; margin-left: 0.5rem\">POLITIQUE</span>\n",
              "</mark>\n",
              " صامته لا تتكلم ولا تتفاعل مع كل المقترحات واعتبر غازي الشواشي ان سنه 2022 ستكون سنه \n",
              "<mark class=\"entity\" style=\"background: #ddd; padding: 0.45em 0.6em; margin: 0 0.25em; line-height: 1; border-radius: 0.35em;\">\n",
              "    التضخم بامتياز\n",
              "    <span style=\"font-size: 0.8em; font-weight: bold; line-height: 1; border-radius: 0.35em; vertical-align: middle; margin-left: 0.5rem\">ECONOMIE</span>\n",
              "</mark>\n",
              "  خاصه في ضوء \n",
              "<mark class=\"entity\" style=\"background: #ddd; padding: 0.45em 0.6em; margin: 0 0.25em; line-height: 1; border-radius: 0.35em;\">\n",
              "    ارتفاع سعر\n",
              "    <span style=\"font-size: 0.8em; font-weight: bold; line-height: 1; border-radius: 0.35em; vertical-align: middle; margin-left: 0.5rem\">ECONOMIE</span>\n",
              "</mark>\n",
              " برميل البترول \n",
              "<mark class=\"entity\" style=\"background: #ddd; padding: 0.45em 0.6em; margin: 0 0.25em; line-height: 1; border-radius: 0.35em;\">\n",
              "    والحرب\n",
              "    <span style=\"font-size: 0.8em; font-weight: bold; line-height: 1; border-radius: 0.35em; vertical-align: middle; margin-left: 0.5rem\">SECURITÉ ET DEFENSE</span>\n",
              "</mark>\n",
              " في اوكرانيا  مبينا ان الزياده في \n",
              "<mark class=\"entity\" style=\"background: #ddd; padding: 0.45em 0.6em; margin: 0 0.25em; line-height: 1; border-radius: 0.35em;\">\n",
              "    اسعار المحروقات\n",
              "    <span style=\"font-size: 0.8em; font-weight: bold; line-height: 1; border-radius: 0.35em; vertical-align: middle; margin-left: 0.5rem\">ECONOMIE</span>\n",
              "</mark>\n",
              " التي تم الاعلان عنها ليله امس كانت منتظره    وتحدث الشواشي عن ضروره ايجاد سياسات واضحه للماليه العموميه والتوصل الي التوازنات الضروريه وعبر عن امله في تكون للحكومه القدره في التقليص من \n",
              "<mark class=\"entity\" style=\"background: #ddd; padding: 0.45em 0.6em; margin: 0 0.25em; line-height: 1; border-radius: 0.35em;\">\n",
              "    حده التضخم\n",
              "    <span style=\"font-size: 0.8em; font-weight: bold; line-height: 1; border-radius: 0.35em; vertical-align: middle; margin-left: 0.5rem\">ECONOMIE</span>\n",
              "</mark>\n",
              " عبر وضع برنامج ورءيه واضحه  قاءلا ان \n",
              "<mark class=\"entity\" style=\"background: #ddd; padding: 0.45em 0.6em; margin: 0 0.25em; line-height: 1; border-radius: 0.35em;\">\n",
              "    حكومه نجلاء بودن\n",
              "    <span style=\"font-size: 0.8em; font-weight: bold; line-height: 1; border-radius: 0.35em; vertical-align: middle; margin-left: 0.5rem\">POLITIQUE</span>\n",
              "</mark>\n",
              " دون رءيه منذ يومها الاول تونس م هدده بالانهيار وفي مرحله اخطر من 2013وحذر الشواشي من خطوره الاوضاع التي تمر بها تونس  مءكدا ان البلاد في مرحله اخطر من 2013 وفق تعبيره واوضح الشواشي ان تونس تعيش اليوم حاله  من الشلل في ضوء التفرد بالراي \n",
              "<mark class=\"entity\" style=\"background: #ddd; padding: 0.45em 0.6em; margin: 0 0.25em; line-height: 1; border-radius: 0.35em;\">\n",
              "    لرءيس الجمهوريه\n",
              "    <span style=\"font-size: 0.8em; font-weight: bold; line-height: 1; border-radius: 0.35em; vertical-align: middle; margin-left: 0.5rem\">POLITIQUE</span>\n",
              "</mark>\n",
              " وعجز \n",
              "<mark class=\"entity\" style=\"background: #ddd; padding: 0.45em 0.6em; margin: 0 0.25em; line-height: 1; border-radius: 0.35em;\">\n",
              "    حكومه نجلاء بودن وتحدث غازي\n",
              "    <span style=\"font-size: 0.8em; font-weight: bold; line-height: 1; border-radius: 0.35em; vertical-align: middle; margin-left: 0.5rem\">POLITIQUE</span>\n",
              "</mark>\n",
              " الشواشي عن مشروع هلامي في تونس وعن عزله داخليه وخارجيه  مشددا علي ضروره تنظيم حوار والتوصل لتحقيق \n",
              "<mark class=\"entity\" style=\"background: #ddd; padding: 0.45em 0.6em; margin: 0 0.25em; line-height: 1; border-radius: 0.35em;\">\n",
              "    الاستقرار\n",
              "    <span style=\"font-size: 0.8em; font-weight: bold; line-height: 1; border-radius: 0.35em; vertical-align: middle; margin-left: 0.5rem\">POLITIQUE</span>\n",
              "</mark>\n",
              " في البلاد وتابع ان الوضع في تونس قابل للانفجار في اي لحظه وعبر المتحدث عن انفتاح حزبه علي \n",
              "<mark class=\"entity\" style=\"background: #ddd; padding: 0.45em 0.6em; margin: 0 0.25em; line-height: 1; border-radius: 0.35em;\">\n",
              "    رءيس الجمهوريه\n",
              "    <span style=\"font-size: 0.8em; font-weight: bold; line-height: 1; border-radius: 0.35em; vertical-align: middle; margin-left: 0.5rem\">POLITIQUE</span>\n",
              "</mark>\n",
              " وقال ان ايديهم ممدوده له  معتبرا انه لا احد له وصايه علي تونس وتونس لكل التونسيين وفق \n",
              "<mark class=\"entity\" style=\"background: #ddd; padding: 0.45em 0.6em; margin: 0 0.25em; line-height: 1; border-radius: 0.35em;\">\n",
              "    تصريحه\n",
              "    <span style=\"font-size: 0.8em; font-weight: bold; line-height: 1; border-radius: 0.35em; vertical-align: middle; margin-left: 0.5rem\">MÉDIAS</span>\n",
              "</mark>\n",
              "  يدعو سعي د الي اطلاق حوار وطنيودعا الشواشي  \n",
              "<mark class=\"entity\" style=\"background: #ddd; padding: 0.45em 0.6em; margin: 0 0.25em; line-height: 1; border-radius: 0.35em;\">\n",
              "    رءيس الجمهوريه\n",
              "    <span style=\"font-size: 0.8em; font-weight: bold; line-height: 1; border-radius: 0.35em; vertical-align: middle; margin-left: 0.5rem\">POLITIQUE</span>\n",
              "</mark>\n",
              " \n",
              "<mark class=\"entity\" style=\"background: #ddd; padding: 0.45em 0.6em; margin: 0 0.25em; line-height: 1; border-radius: 0.35em;\">\n",
              "    قيس سعيد\n",
              "    <span style=\"font-size: 0.8em; font-weight: bold; line-height: 1; border-radius: 0.35em; vertical-align: middle; margin-left: 0.5rem\">POLITIQUE</span>\n",
              "</mark>\n",
              " الي اطلاق \n",
              "<mark class=\"entity\" style=\"background: #ddd; padding: 0.45em 0.6em; margin: 0 0.25em; line-height: 1; border-radius: 0.35em;\">\n",
              "    حوار وطني\n",
              "    <span style=\"font-size: 0.8em; font-weight: bold; line-height: 1; border-radius: 0.35em; vertical-align: middle; margin-left: 0.5rem\">POLITIQUE</span>\n",
              "</mark>\n",
              " والتوصل الي خارطه طريق \n",
              "<mark class=\"entity\" style=\"background: #ddd; padding: 0.45em 0.6em; margin: 0 0.25em; line-height: 1; border-radius: 0.35em;\">\n",
              "    لانقاذ تونس\n",
              "    <span style=\"font-size: 0.8em; font-weight: bold; line-height: 1; border-radius: 0.35em; vertical-align: middle; margin-left: 0.5rem\">POLITIQUE</span>\n",
              "</mark>\n",
              " من الانهيار واعتبر الشواشي ان الحوار ينقسم الي مسارين  \n",
              "<mark class=\"entity\" style=\"background: #ddd; padding: 0.45em 0.6em; margin: 0 0.25em; line-height: 1; border-radius: 0.35em;\">\n",
              "    المسار السياسي\n",
              "    <span style=\"font-size: 0.8em; font-weight: bold; line-height: 1; border-radius: 0.35em; vertical-align: middle; margin-left: 0.5rem\">POLITIQUE</span>\n",
              "</mark>\n",
              " بما يشمل \n",
              "<mark class=\"entity\" style=\"background: #ddd; padding: 0.45em 0.6em; margin: 0 0.25em; line-height: 1; border-radius: 0.35em;\">\n",
              "    قانون\n",
              "    <span style=\"font-size: 0.8em; font-weight: bold; line-height: 1; border-radius: 0.35em; vertical-align: middle; margin-left: 0.5rem\">POLITIQUE</span>\n",
              "</mark>\n",
              " \n",
              "<mark class=\"entity\" style=\"background: #ddd; padding: 0.45em 0.6em; margin: 0 0.25em; line-height: 1; border-radius: 0.35em;\">\n",
              "    الاحزاب والنظام السياسي\n",
              "    <span style=\"font-size: 0.8em; font-weight: bold; line-height: 1; border-radius: 0.35em; vertical-align: middle; margin-left: 0.5rem\">POLITIQUE</span>\n",
              "</mark>\n",
              " \n",
              "<mark class=\"entity\" style=\"background: #ddd; padding: 0.45em 0.6em; margin: 0 0.25em; line-height: 1; border-radius: 0.35em;\">\n",
              "    واصلاح القضاء\n",
              "    <span style=\"font-size: 0.8em; font-weight: bold; line-height: 1; border-radius: 0.35em; vertical-align: middle; margin-left: 0.5rem\">POLITIQUE</span>\n",
              "</mark>\n",
              "  اما المسار الثاني فهو \n",
              "<mark class=\"entity\" style=\"background: #ddd; padding: 0.45em 0.6em; margin: 0 0.25em; line-height: 1; border-radius: 0.35em;\">\n",
              "    المسار الاقتصادي\n",
              "    <span style=\"font-size: 0.8em; font-weight: bold; line-height: 1; border-radius: 0.35em; vertical-align: middle; margin-left: 0.5rem\">ECONOMIE</span>\n",
              "</mark>\n",
              " وهو مسار حساس وقصير في زمن ولا يمكن الانتظار وتحدث الشواشي عن اهميه تنظيم الحوار باشراف \n",
              "<mark class=\"entity\" style=\"background: #ddd; padding: 0.45em 0.6em; margin: 0 0.25em; line-height: 1; border-radius: 0.35em;\">\n",
              "    رءيس الجمهوريه\n",
              "    <span style=\"font-size: 0.8em; font-weight: bold; line-height: 1; border-radius: 0.35em; vertical-align: middle; margin-left: 0.5rem\">POLITIQUE</span>\n",
              "</mark>\n",
              " \n",
              "<mark class=\"entity\" style=\"background: #ddd; padding: 0.45em 0.6em; margin: 0 0.25em; line-height: 1; border-radius: 0.35em;\">\n",
              "    قيس سعيد\n",
              "    <span style=\"font-size: 0.8em; font-weight: bold; line-height: 1; border-radius: 0.35em; vertical-align: middle; margin-left: 0.5rem\">POLITIQUE</span>\n",
              "</mark>\n",
              "  لكن وفي صوره رفضه للحوار فيجب التوجه الي \n",
              "<mark class=\"entity\" style=\"background: #ddd; padding: 0.45em 0.6em; margin: 0 0.25em; line-height: 1; border-radius: 0.35em;\">\n",
              "    حوار دون الرءيس\n",
              "    <span style=\"font-size: 0.8em; font-weight: bold; line-height: 1; border-radius: 0.35em; vertical-align: middle; margin-left: 0.5rem\">POLITIQUE</span>\n",
              "</mark>\n",
              " وفق تعبيره وجدد غازي الشواشي التاكيد علي ان \n",
              "<mark class=\"entity\" style=\"background: #ddd; padding: 0.45em 0.6em; margin: 0 0.25em; line-height: 1; border-radius: 0.35em;\">\n",
              "    قيس سعيد\n",
              "    <span style=\"font-size: 0.8em; font-weight: bold; line-height: 1; border-radius: 0.35em; vertical-align: middle; margin-left: 0.5rem\">POLITIQUE</span>\n",
              "</mark>\n",
              " ليس له اي رءيه او خيارات في \n",
              "<mark class=\"entity\" style=\"background: #ddd; padding: 0.45em 0.6em; margin: 0 0.25em; line-height: 1; border-radius: 0.35em;\">\n",
              "    المجال الاقتصادي\n",
              "    <span style=\"font-size: 0.8em; font-weight: bold; line-height: 1; border-radius: 0.35em; vertical-align: middle; margin-left: 0.5rem\">ECONOMIE</span>\n",
              "</mark>\n",
              "   </div></span>"
            ]
          },
          "metadata": {}
        },
        {
          "output_type": "display_data",
          "data": {
            "text/plain": [
              "<IPython.core.display.HTML object>"
            ],
            "text/html": [
              "<span class=\"tex2jax_ignore\"><div class=\"entities\" style=\"line-height: 2.5; direction: rtl\">افادت \n",
              "<mark class=\"entity\" style=\"background: #ddd; padding: 0.45em 0.6em; margin: 0 0.25em; line-height: 1; border-radius: 0.35em;\">\n",
              "    قناه\n",
              "    <span style=\"font-size: 0.8em; font-weight: bold; line-height: 1; border-radius: 0.35em; vertical-align: middle; margin-left: 0.5rem\">MÉDIAS</span>\n",
              "</mark>\n",
              " \n",
              "<mark class=\"entity\" style=\"background: #ddd; padding: 0.45em 0.6em; margin: 0 0.25em; line-height: 1; border-radius: 0.35em;\">\n",
              "    سكاي نيوز الناطقه\n",
              "    <span style=\"font-size: 0.8em; font-weight: bold; line-height: 1; border-radius: 0.35em; vertical-align: middle; margin-left: 0.5rem\">MÉDIAS</span>\n",
              "</mark>\n",
              " بالعربيه نقلا عن \n",
              "<mark class=\"entity\" style=\"background: #ddd; padding: 0.45em 0.6em; margin: 0 0.25em; line-height: 1; border-radius: 0.35em;\">\n",
              "    وساءل اعلام\n",
              "    <span style=\"font-size: 0.8em; font-weight: bold; line-height: 1; border-radius: 0.35em; vertical-align: middle; margin-left: 0.5rem\">MÉDIAS</span>\n",
              "</mark>\n",
              " روسيه واوكرانيه بان موعد الجوله الثانيه من \n",
              "<mark class=\"entity\" style=\"background: #ddd; padding: 0.45em 0.6em; margin: 0 0.25em; line-height: 1; border-radius: 0.35em;\">\n",
              "    المفاوضات\n",
              "    <span style=\"font-size: 0.8em; font-weight: bold; line-height: 1; border-radius: 0.35em; vertical-align: middle; margin-left: 0.5rem\">POLITIQUE</span>\n",
              "</mark>\n",
              " بين البلدين بهدف وقف \n",
              "<mark class=\"entity\" style=\"background: #ddd; padding: 0.45em 0.6em; margin: 0 0.25em; line-height: 1; border-radius: 0.35em;\">\n",
              "    العمليات العسكريه الروسيه\n",
              "    <span style=\"font-size: 0.8em; font-weight: bold; line-height: 1; border-radius: 0.35em; vertical-align: middle; margin-left: 0.5rem\">SECURITÉ ET DEFENSE</span>\n",
              "</mark>\n",
              " في اوكرانيا المستمره منذ الخميس ستقام غدا الاربعاء 2 مارس 2022 بعد الجوله الاولي التي جرت امس الاثنين علي الحدود بين اوكرانيا وبيلاروسيا</div></span>"
            ]
          },
          "metadata": {}
        }
      ],
      "source": [
        "doc=nlp(preprocess(\"أفادت قناة سكاي نيوز الناطقة بالعربية نقلا عن وسائل إعلام روسية وأوكرانية بأن موعد الجولة الثانية من المفاوضات بين البلدين بهدف وقف العمليات العسكرية الروسية في أوكرانيا المستمرة منذ الخميس ستقام غدا الأربعاء 2 مارس 2022 بعد الجولة الأولى التي جرت أمس الإثنين على الحدود بين أوكرانيا وبيلاروسيا\"))\n",
        "doc1=nlp(preprocess(\"عبر الأمين العام لحزب التيار الديمقراطي غازي الشواشي اليوم الثلاثاء 01 مارس 2022  عن شفقته على حكومة نجلاء بودن     وفي حوار له في ماتينال اذاعة شمس انتقد الشواشي تعاطي وأداء الحكومة  وقال إن حكومة بودن هي حكومة صامتة لا تتكلم ولا تتفاعل مع كل المقترحات واعتبر غازي الشواشي أن سنة 2022 ستكون سنة التضخم بامتياز  خاصة في ضوء ارتفاع سعر برميل البترول والحرب في أوكرانيا  مبينا أن الزيادة في أسعار المحروقات التي تم الإعلان عنها ليلة أمس كانت منتظرة    وتحدث الشواشي عن ضرورة إيجاد سياسات واضحة للمالية العمومية والتوصل إلى التوازنات الضرورية وعبر عن أمله في تكون للحكومة القدرة في التقليص من حدة التضخم عبر وضع برنامج ورؤية واضحة  قائلا إن حكومة نجلاء بودن دون رؤية منذ يومها الأول تونس م هددة بالانهيار وفي مرحلة أخطر من 2013وحذر الشواشي من خطورة الأوضاع التي تمر بها تونس  مؤكدا أن البلاد في مرحلة أخطر من 2013 وفق تعبيره وأوضح الشواشي أن تونس تعيش اليوم حالة  من الشلل في ضوء التفرد بالرأي لرئيس الجمهورية وعجز حكومة نجلاء بودن وتحدث غازي الشواشي عن مشروع هلامي في تونس وعن عزلة داخلية وخارجية  مشددا على ضرورة تنظيم حوار والتوصل لتحقيق الإستقرار في البلاد وتابع أن الوضع في تونس قابل للإنفجار في أي لحظة وعبر المتحدث عن انفتاح حزبه على رئيس الجمهورية وقال إن أيديهم ممدودة له  معتبرا أنه لا أحد له وصاية على تونس وتونس لكل التونسيين وفق تصريحه  يدعو سعي د إلى إطلاق حوار وطنيودعا الشواشي  رئيس الجمهورية قيس سعيد إلى إطلاق حوار وطني والتوصل إلى خارطة طريق لإنقاذ تونس من الإنهيار واعتبر الشواشي أن الحوار ينقسم إلى مسارين  المسار السياسي بما يشمل قانون الأحزاب والنظام السياسي وإصلاح القضاء  أما المسار الثاني فهو المسار الإقتصادي وهو مسار حساس وقصير في زمن ولا يمكن الإنتظار وتحدث الشواشي عن أهمية تنظيم الحوار بإشراف رئيس الجمهورية قيس سعيد  لكن وفي صورة رفضه للحوار فيجب التوجه إلى حوار دون الرئيس وفق تعبيره وجدد غازي الشواشي التأكيد على أن قيس سعيد ليس له أي رؤية أو خيارات في المجال الإقتصادي   \"))\n",
        "doc2=nlp(preprocess(\"واوضح ان التطبيقة ستساهم في مزيد ربط الصلة بمختلف الفاعلين الثقافيين من جمعيات ومؤسسات ثقافية وفنانين ومتعهدي حفلات وستوفر لهم ارضية افتراضية للتفاعل الحيني بين الفاعلين والادارة بما يساهم في تطوير المشهد الثقافي الجهوي فضلا عن فسح المجال لتوثيق مختلف الانشطة والتظاهرات التي تنتظم بالجهة  ولاحظ في ذات السياق ان التطبيقة ستكون مفتوحة لكل المستعملين وستمكن المولعين بالثقافة والفنون من اجندا ثقافية لمختلف التظاهرات الثقافية المبرمجة بالجهة\"))\n",
        "displacy.render(doc2,style=\"ent\",jupyter=True)\n",
        "displacy.render(doc1,style=\"ent\",jupyter=True)\n",
        "displacy.render(doc,style=\"ent\",jupyter=True)"
      ],
      "id": "pLKoVaIntaIJ"
    },
    {
      "cell_type": "code",
      "execution_count": null,
      "metadata": {
        "id": "xP6EZFz-VKow"
      },
      "outputs": [],
      "source": [
        "text=\"وذكر موقع داون ديتيكتور دوت كوم لمراقبة عمليات الانقطاع أن نحو 40 ألف مستخدم أبلغوا عن مشكلات في منصة التواصل الاجتماعي يوم الجمعة. وربما يكون الانقطاع قد أثر على عدد أكبر من المستخدمين.\"\n",
        "doc12=nlp(preprocess(text))\n"
      ],
      "id": "xP6EZFz-VKow"
    },
    {
      "cell_type": "code",
      "execution_count": null,
      "metadata": {
        "colab": {
          "base_uri": "https://localhost:8080/",
          "height": 87
        },
        "id": "EqeUN4jkVPaa",
        "outputId": "efb14297-995f-44cf-a7a9-9a8827b1559b"
      },
      "outputs": [
        {
          "output_type": "display_data",
          "data": {
            "text/plain": [
              "<IPython.core.display.HTML object>"
            ],
            "text/html": [
              "<span class=\"tex2jax_ignore\"><div class=\"entities\" style=\"line-height: 2.5; direction: rtl\">وذكر \n",
              "<mark class=\"entity\" style=\"background: #ddd; padding: 0.45em 0.6em; margin: 0 0.25em; line-height: 1; border-radius: 0.35em;\">\n",
              "    موقع\n",
              "    <span style=\"font-size: 0.8em; font-weight: bold; line-height: 1; border-radius: 0.35em; vertical-align: middle; margin-left: 0.5rem\">MÉDIAS</span>\n",
              "</mark>\n",
              " داون ديتيكتور دوت كوم لمراقبه عمليات الانقطاع ان نحو 40 الف \n",
              "<mark class=\"entity\" style=\"background: #ddd; padding: 0.45em 0.6em; margin: 0 0.25em; line-height: 1; border-radius: 0.35em;\">\n",
              "    مستخدم\n",
              "    <span style=\"font-size: 0.8em; font-weight: bold; line-height: 1; border-radius: 0.35em; vertical-align: middle; margin-left: 0.5rem\">TECHNOLOGIE</span>\n",
              "</mark>\n",
              " ابلغوا عن مشكلات في \n",
              "<mark class=\"entity\" style=\"background: #ddd; padding: 0.45em 0.6em; margin: 0 0.25em; line-height: 1; border-radius: 0.35em;\">\n",
              "    منصه\n",
              "    <span style=\"font-size: 0.8em; font-weight: bold; line-height: 1; border-radius: 0.35em; vertical-align: middle; margin-left: 0.5rem\">TECHNOLOGIE</span>\n",
              "</mark>\n",
              " \n",
              "<mark class=\"entity\" style=\"background: #ddd; padding: 0.45em 0.6em; margin: 0 0.25em; line-height: 1; border-radius: 0.35em;\">\n",
              "    التواصل الاجتماعي\n",
              "    <span style=\"font-size: 0.8em; font-weight: bold; line-height: 1; border-radius: 0.35em; vertical-align: middle; margin-left: 0.5rem\">MÉDIAS</span>\n",
              "</mark>\n",
              " يوم الجمعه. وربما يكون الانقطاع قد اثر علي عدد اكبر من \n",
              "<mark class=\"entity\" style=\"background: #ddd; padding: 0.45em 0.6em; margin: 0 0.25em; line-height: 1; border-radius: 0.35em;\">\n",
              "    المستخدمين\n",
              "    <span style=\"font-size: 0.8em; font-weight: bold; line-height: 1; border-radius: 0.35em; vertical-align: middle; margin-left: 0.5rem\">TECHNOLOGIE</span>\n",
              "</mark>\n",
              ".</div></span>"
            ]
          },
          "metadata": {}
        }
      ],
      "source": [
        "displacy.render(doc12,style=\"ent\",jupyter=True)"
      ],
      "id": "EqeUN4jkVPaa"
    },
    {
      "cell_type": "code",
      "source": [
        "files.download(\"output.zip\")"
      ],
      "metadata": {
        "colab": {
          "base_uri": "https://localhost:8080/",
          "height": 34
        },
        "id": "nQlMfpLimiJE",
        "outputId": "f9ff1969-c3b1-4f6b-d36d-a6e9f62a5cf9"
      },
      "id": "nQlMfpLimiJE",
      "execution_count": null,
      "outputs": [
        {
          "output_type": "display_data",
          "data": {
            "text/plain": [
              "<IPython.core.display.Javascript object>"
            ],
            "application/javascript": [
              "\n",
              "    async function download(id, filename, size) {\n",
              "      if (!google.colab.kernel.accessAllowed) {\n",
              "        return;\n",
              "      }\n",
              "      const div = document.createElement('div');\n",
              "      const label = document.createElement('label');\n",
              "      label.textContent = `Downloading \"${filename}\": `;\n",
              "      div.appendChild(label);\n",
              "      const progress = document.createElement('progress');\n",
              "      progress.max = size;\n",
              "      div.appendChild(progress);\n",
              "      document.body.appendChild(div);\n",
              "\n",
              "      const buffers = [];\n",
              "      let downloaded = 0;\n",
              "\n",
              "      const channel = await google.colab.kernel.comms.open(id);\n",
              "      // Send a message to notify the kernel that we're ready.\n",
              "      channel.send({})\n",
              "\n",
              "      for await (const message of channel.messages) {\n",
              "        // Send a message to notify the kernel that we're ready.\n",
              "        channel.send({})\n",
              "        if (message.buffers) {\n",
              "          for (const buffer of message.buffers) {\n",
              "            buffers.push(buffer);\n",
              "            downloaded += buffer.byteLength;\n",
              "            progress.value = downloaded;\n",
              "          }\n",
              "        }\n",
              "      }\n",
              "      const blob = new Blob(buffers, {type: 'application/binary'});\n",
              "      const a = document.createElement('a');\n",
              "      a.href = window.URL.createObjectURL(blob);\n",
              "      a.download = filename;\n",
              "      div.appendChild(a);\n",
              "      a.click();\n",
              "      div.remove();\n",
              "    }\n",
              "  "
            ]
          },
          "metadata": {}
        },
        {
          "output_type": "display_data",
          "data": {
            "text/plain": [
              "<IPython.core.display.Javascript object>"
            ],
            "application/javascript": [
              "download(\"download_b207b3a0-7e87-47c0-8335-f4f1a6eef574\", \"output.zip\", 52892776)"
            ]
          },
          "metadata": {}
        }
      ]
    },
    {
      "cell_type": "markdown",
      "metadata": {
        "id": "6d07ddde-b136-475d-a7d5-af393eb6365d"
      },
      "source": [
        "# Notebook End"
      ],
      "id": "6d07ddde-b136-475d-a7d5-af393eb6365d"
    }
  ],
  "metadata": {
    "colab": {
      "collapsed_sections": [],
      "name": "Spacy.ipynb",
      "provenance": []
    },
    "kernelspec": {
      "display_name": "Python 3 (ipykernel)",
      "language": "python",
      "name": "python3"
    },
    "language_info": {
      "codemirror_mode": {
        "name": "ipython",
        "version": 3
      },
      "file_extension": ".py",
      "mimetype": "text/x-python",
      "name": "python",
      "nbconvert_exporter": "python",
      "pygments_lexer": "ipython3",
      "version": "3.9.5"
    },
    "toc-autonumbering": true,
    "toc-showcode": true,
    "toc-showmarkdowntxt": false
  },
  "nbformat": 4,
  "nbformat_minor": 5
}